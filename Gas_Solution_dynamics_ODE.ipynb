{
  "nbformat": 4,
  "nbformat_minor": 0,
  "metadata": {
    "colab": {
      "provenance": [],
      "authorship_tag": "ABX9TyPuJZpqLajMtmo0zlRFjm3H",
      "include_colab_link": true
    },
    "kernelspec": {
      "name": "python3",
      "display_name": "Python 3"
    },
    "language_info": {
      "name": "python"
    }
  },
  "cells": [
    {
      "cell_type": "markdown",
      "metadata": {
        "id": "view-in-github",
        "colab_type": "text"
      },
      "source": [
        "<a href=\"https://colab.research.google.com/github/MorgenPronk/LSTM_System_Identification/blob/main/Gas_Solution_dynamics_ODE.ipynb\" target=\"_parent\"><img src=\"https://colab.research.google.com/assets/colab-badge.svg\" alt=\"Open In Colab\"/></a>"
      ]
    },
    {
      "cell_type": "markdown",
      "source": [
        "#Gas - Liquid Dynamics\n",
        "This is to model how the GoA changes with pressure and other factors. This is to test some assumptions and get a model working, so it can be used in the larger dynamic system to define the system that we want to control"
      ],
      "metadata": {
        "id": "86YGE-h20Qge"
      }
    },
    {
      "cell_type": "code",
      "source": [
        "!apt-get install git"
      ],
      "metadata": {
        "colab": {
          "base_uri": "https://localhost:8080/"
        },
        "id": "Fpa-Rbq80tpI",
        "outputId": "c5893d58-ecbb-4114-fdf3-4eb94ef8aea9"
      },
      "execution_count": 1,
      "outputs": [
        {
          "output_type": "stream",
          "name": "stdout",
          "text": [
            "Reading package lists... Done\n",
            "Building dependency tree... Done\n",
            "Reading state information... Done\n",
            "git is already the newest version (1:2.34.1-1ubuntu1.10).\n",
            "0 upgraded, 0 newly installed, 0 to remove and 45 not upgraded.\n"
          ]
        }
      ]
    },
    {
      "cell_type": "code",
      "source": [
        "!git clone https://github.com/MorgenPronk/LSTM_System_Identification.git"
      ],
      "metadata": {
        "colab": {
          "base_uri": "https://localhost:8080/"
        },
        "id": "CZolPdwW3rIr",
        "outputId": "8970f9d5-4bd4-4b98-9115-54cd46f93f72"
      },
      "execution_count": 2,
      "outputs": [
        {
          "output_type": "stream",
          "name": "stdout",
          "text": [
            "Cloning into 'LSTM_System_Identification'...\n",
            "remote: Enumerating objects: 4, done.\u001b[K\n",
            "remote: Counting objects: 100% (4/4), done.\u001b[K\n",
            "remote: Compressing objects: 100% (4/4), done.\u001b[K\n",
            "remote: Total 4 (delta 0), reused 0 (delta 0), pack-reused 0\u001b[K\n",
            "Receiving objects: 100% (4/4), 739.63 KiB | 9.02 MiB/s, done.\n"
          ]
        }
      ]
    },
    {
      "cell_type": "code",
      "source": [
        "from google.colab import drive\n",
        "import os\n",
        "\n",
        "def mount_drive():\n",
        "    drive.mount('/content/drive')\n",
        "\n",
        "def clone_repository(repo_url, repo_dir):\n",
        "    !git clone {repo_url} {repo_dir}\n",
        "\n",
        "def copy_to_repository(notebook_path, repo_dir):\n",
        "    !cp {notebook_path} {repo_dir}\n",
        "\n",
        "def push_to_github(commit_message='Update from Colab'):\n",
        "    os.chdir(repo_dir)\n",
        "    !git add .\n",
        "    !git commit -m \"{commit_message}\"\n",
        "    !git push origin master\n",
        "\n",
        "# Your configurations\n",
        "repo_url = '<repository_URL>'\n",
        "repo_dir = '/content/your_repository_directory'\n",
        "notebook_path = '/content/drive/path_to_your_notebook.ipynb'\n",
        "\n",
        "# Main process\n",
        "mount_drive()\n",
        "clone_repository(repo_url, repo_dir)\n",
        "copy_to_repository(notebook_path, repo_dir)\n",
        "push_to_github()"
      ],
      "metadata": {
        "id": "vqVepWY632at"
      },
      "execution_count": null,
      "outputs": []
    }
  ]
}